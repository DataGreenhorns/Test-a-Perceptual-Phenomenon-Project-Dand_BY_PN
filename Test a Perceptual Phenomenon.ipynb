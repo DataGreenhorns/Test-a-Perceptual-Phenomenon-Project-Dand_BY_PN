{
 "cells": [
  {
   "cell_type": "markdown",
   "metadata": {},
   "source": [
    "### Analyzing the Stroop Effect\n",
    "In a Stroop task, participants are presented with a list of words, with each word displayed in a color of ink. The participant’s task is to say out loud the color of the ink in which the word is printed. The task has two conditions: a congruent words condition, and an incongruent words condition. In the congruent words condition, the words being displayed are color words whose names match the colors in which they are printed: for example RED, BLUE. In the incongruent words condition, the words displayed are color words whose names do not match the colors in which they are printed: for example PURPLE, ORANGE. In each case, we measure the time it takes to name the ink colors in equally-sized lists. Each participant will go through and record a time from each condition.\n",
    "\n",
    "\n",
    "(1) What is the independent variable? What is the dependent variable?"
   ]
  },
  {
   "cell_type": "markdown",
   "metadata": {},
   "source": [
    "The two main variables in an experiment are the independent and dependent variable.\n",
    "<div class=\"alert alert-block alert-info\">\n",
    "An independent variable is the variable that is changed or controlled in a scientific experiment to test the effects on the dependent variable.If the independent variable is changed, then an effect is seen in the dependent variable.</div>\n",
    "<div class=\"alert alert--block alert-success\">\n",
    "    The given dataset contains both independent and dependent variable.\n",
    "    In this experiment the dependent variable is <b>the response time of each participant to name the color of the ink. </b> \n",
    "    The independent variable is <b>congruency condition including congruent words condition and incongruent words condition.</b>\n",
    "    </div>"
   ]
  },
  {
   "cell_type": "markdown",
   "metadata": {},
   "source": [
    "(2) What is an appropriate set of hypotheses for this task? Specify your null and alternative hypotheses, and clearly define any notation used. Justify your choices."
   ]
  },
  {
   "cell_type": "markdown",
   "metadata": {},
   "source": [
    "I chose the two-tailed t-test for given dataset.The dependent T-test compares the mean of the two paired group to see if the statistically significant deferences between these means.The same subjects were tested  for congruent and incongruent words.By using the same subjects to test two different conditions,we eliminate the individual differences that occur between the subjects.\n",
    "<div class=\"alert alert--block alert-success\">\n",
    "            <b>Reasons for selecting The Two-Tailed T-Test</b>\n",
    "            <li>We don't have any information about the population, we have just 24 sample datasets. </li>\n",
    "<li>The ability to compare the means of the dataset for the pre and post test validates the benefit of this test selection.</li>\n",
    "            <li> We don't have direction of the test so we choose two tailed test.</li>\n",
    "</div>\n",
    "<div class=\"alert alert-block alert-warning\">\n",
    "    <b>Assumptions </b>\n",
    "    <li>The distributions of differences in dependent variable between the two related groups should be approximately normally distributed. Normal distributions are symmetric around the center(mean) and follow a ‘bell- shaped’ distribution.</li>\n",
    "    <li>The observations are independent of each another.</li>\n",
    "    <li>The dependent variable should be measured on continuous scale.The dependent t-test requires the sample data to be numeric and continuous, as it is based on the normal distribution.</li>\n",
    "    <li>There should be no significant outliers in the differences between the two related groups. Outliers are simply single data points within your data that do not follow the usual pattern.</li>\n",
    " \n",
    "</div>\n",
    "\n",
    "<div class=\"alert alert-block alert-info\">\n",
    "    <b>Null Hypothesis</b>\n",
    "    A null hypothesis is a statistical hypothesis in which there is no significant difference exist between the set of variables. It is the original or default statement, with no effect, often represented by H0 (H-zero). In this experiment the null hypothesis is that there is no significant difference exist between the time taken to say the congruent words and incongruent words, means the Mean (xbar) of the Reaction time for the congruent sample will be equal to the mean(xbar) of the reaction time for the incongruent sample.\n",
    "   </div>\n",
    "    <div class=\"alert alert--block alert-success\">\n",
    "    <b> $ H_0 $ ( Null Hypothesis ) :  (Population Mean)incongruent   =   (Population Mean)congruent OR  $ \\mu_i = \\mu_c $ </b>\n",
    "    </div>\n",
    "    <div class=\"alert alert-block alert-info\">\n",
    "    <b>Alternative Hypothesis</b>\n",
    "    A alternative hypothesis is a statistical hypothesis in which there is no significant difference exist between the set of variables. Often denoted by H1 (H-one).In this experiment the alternative hypothesis is that there is significant difference exist between the time taken to say the congruent words and incongruent words, means the Mean (xbar) of the Reaction time for the congruent sample will not be equal to the mean(xbar) of the reaction time for the incongruent sample. \n",
    "</div>\n",
    "<div class=\"alert alert--block alert-success\">\n",
    "    <b>$ H_1 $ ( Alternative Hypothesis )   :  (Population Mean)incongruent   ≠  (Population Mean)congruent  OR   $ \\mu_i$ ≠ $\\mu_c $\n",
    "\n",
    "</b>\n",
    "</div>\n",
    "<div class=\"alert alert-block alert-warning\">\n",
    "<b>Notations</b>\n",
    "<li> Where $ \\mu_i$ = Mean time taken to name the ink color for incongruent words.</li>\n",
    "<li>$ \\mu_c$ = Mean time taken to name the ink color for congruent words. </li>\n",
    "\n",
    "</div>\n",
    "    \n",
    " "
   ]
  },
  {
   "cell_type": "markdown",
   "metadata": {},
   "source": [
    "(3) Report some descriptive statistics regarding this dataset. Include at least one measure of central tendency and at least one measure of variability. The name of the data file is 'stroopdata.csv'."
   ]
  },
  {
   "cell_type": "code",
   "execution_count": 38,
   "metadata": {},
   "outputs": [],
   "source": [
    "# Perform the analysis here\n",
    "#importing the Required\n",
    "from math import *\n",
    "import seaborn as sns\n",
    "import numpy as np\n",
    "import pandas as pd\n",
    "from scipy.stats import t as pt\n",
    "import matplotlib.pyplot as plt\n",
    "%matplotlib inline"
   ]
  },
  {
   "cell_type": "code",
   "execution_count": 4,
   "metadata": {},
   "outputs": [
    {
     "data": {
      "text/html": [
       "<div>\n",
       "<style scoped>\n",
       "    .dataframe tbody tr th:only-of-type {\n",
       "        vertical-align: middle;\n",
       "    }\n",
       "\n",
       "    .dataframe tbody tr th {\n",
       "        vertical-align: top;\n",
       "    }\n",
       "\n",
       "    .dataframe thead th {\n",
       "        text-align: right;\n",
       "    }\n",
       "</style>\n",
       "<table border=\"1\" class=\"dataframe\">\n",
       "  <thead>\n",
       "    <tr style=\"text-align: right;\">\n",
       "      <th></th>\n",
       "      <th>Congruent</th>\n",
       "      <th>Incongruent</th>\n",
       "    </tr>\n",
       "  </thead>\n",
       "  <tbody>\n",
       "    <tr>\n",
       "      <th>0</th>\n",
       "      <td>12.079</td>\n",
       "      <td>19.278</td>\n",
       "    </tr>\n",
       "    <tr>\n",
       "      <th>1</th>\n",
       "      <td>16.791</td>\n",
       "      <td>18.741</td>\n",
       "    </tr>\n",
       "    <tr>\n",
       "      <th>2</th>\n",
       "      <td>9.564</td>\n",
       "      <td>21.214</td>\n",
       "    </tr>\n",
       "    <tr>\n",
       "      <th>3</th>\n",
       "      <td>8.630</td>\n",
       "      <td>15.687</td>\n",
       "    </tr>\n",
       "    <tr>\n",
       "      <th>4</th>\n",
       "      <td>14.669</td>\n",
       "      <td>22.803</td>\n",
       "    </tr>\n",
       "    <tr>\n",
       "      <th>5</th>\n",
       "      <td>12.238</td>\n",
       "      <td>20.878</td>\n",
       "    </tr>\n",
       "    <tr>\n",
       "      <th>6</th>\n",
       "      <td>14.692</td>\n",
       "      <td>24.572</td>\n",
       "    </tr>\n",
       "    <tr>\n",
       "      <th>7</th>\n",
       "      <td>8.987</td>\n",
       "      <td>17.394</td>\n",
       "    </tr>\n",
       "    <tr>\n",
       "      <th>8</th>\n",
       "      <td>9.401</td>\n",
       "      <td>20.762</td>\n",
       "    </tr>\n",
       "    <tr>\n",
       "      <th>9</th>\n",
       "      <td>14.480</td>\n",
       "      <td>26.282</td>\n",
       "    </tr>\n",
       "    <tr>\n",
       "      <th>10</th>\n",
       "      <td>22.328</td>\n",
       "      <td>24.524</td>\n",
       "    </tr>\n",
       "    <tr>\n",
       "      <th>11</th>\n",
       "      <td>15.298</td>\n",
       "      <td>18.644</td>\n",
       "    </tr>\n",
       "    <tr>\n",
       "      <th>12</th>\n",
       "      <td>15.073</td>\n",
       "      <td>17.510</td>\n",
       "    </tr>\n",
       "    <tr>\n",
       "      <th>13</th>\n",
       "      <td>16.929</td>\n",
       "      <td>20.330</td>\n",
       "    </tr>\n",
       "    <tr>\n",
       "      <th>14</th>\n",
       "      <td>18.200</td>\n",
       "      <td>35.255</td>\n",
       "    </tr>\n",
       "    <tr>\n",
       "      <th>15</th>\n",
       "      <td>12.130</td>\n",
       "      <td>22.158</td>\n",
       "    </tr>\n",
       "    <tr>\n",
       "      <th>16</th>\n",
       "      <td>18.495</td>\n",
       "      <td>25.139</td>\n",
       "    </tr>\n",
       "    <tr>\n",
       "      <th>17</th>\n",
       "      <td>10.639</td>\n",
       "      <td>20.429</td>\n",
       "    </tr>\n",
       "    <tr>\n",
       "      <th>18</th>\n",
       "      <td>11.344</td>\n",
       "      <td>17.425</td>\n",
       "    </tr>\n",
       "    <tr>\n",
       "      <th>19</th>\n",
       "      <td>12.369</td>\n",
       "      <td>34.288</td>\n",
       "    </tr>\n",
       "    <tr>\n",
       "      <th>20</th>\n",
       "      <td>12.944</td>\n",
       "      <td>23.894</td>\n",
       "    </tr>\n",
       "    <tr>\n",
       "      <th>21</th>\n",
       "      <td>14.233</td>\n",
       "      <td>17.960</td>\n",
       "    </tr>\n",
       "    <tr>\n",
       "      <th>22</th>\n",
       "      <td>19.710</td>\n",
       "      <td>22.058</td>\n",
       "    </tr>\n",
       "    <tr>\n",
       "      <th>23</th>\n",
       "      <td>16.004</td>\n",
       "      <td>21.157</td>\n",
       "    </tr>\n",
       "  </tbody>\n",
       "</table>\n",
       "</div>"
      ],
      "text/plain": [
       "    Congruent  Incongruent\n",
       "0      12.079       19.278\n",
       "1      16.791       18.741\n",
       "2       9.564       21.214\n",
       "3       8.630       15.687\n",
       "4      14.669       22.803\n",
       "5      12.238       20.878\n",
       "6      14.692       24.572\n",
       "7       8.987       17.394\n",
       "8       9.401       20.762\n",
       "9      14.480       26.282\n",
       "10     22.328       24.524\n",
       "11     15.298       18.644\n",
       "12     15.073       17.510\n",
       "13     16.929       20.330\n",
       "14     18.200       35.255\n",
       "15     12.130       22.158\n",
       "16     18.495       25.139\n",
       "17     10.639       20.429\n",
       "18     11.344       17.425\n",
       "19     12.369       34.288\n",
       "20     12.944       23.894\n",
       "21     14.233       17.960\n",
       "22     19.710       22.058\n",
       "23     16.004       21.157"
      ]
     },
     "execution_count": 4,
     "metadata": {},
     "output_type": "execute_result"
    }
   ],
   "source": [
    "#import all the data from the csv file and print all\n",
    "stroop = pd.read_csv(\"stroopdata.csv\")\n",
    "stroop"
   ]
  },
  {
   "cell_type": "code",
   "execution_count": 5,
   "metadata": {},
   "outputs": [
    {
     "data": {
      "text/html": [
       "<div>\n",
       "<style scoped>\n",
       "    .dataframe tbody tr th:only-of-type {\n",
       "        vertical-align: middle;\n",
       "    }\n",
       "\n",
       "    .dataframe tbody tr th {\n",
       "        vertical-align: top;\n",
       "    }\n",
       "\n",
       "    .dataframe thead th {\n",
       "        text-align: right;\n",
       "    }\n",
       "</style>\n",
       "<table border=\"1\" class=\"dataframe\">\n",
       "  <thead>\n",
       "    <tr style=\"text-align: right;\">\n",
       "      <th></th>\n",
       "      <th>Congruent</th>\n",
       "      <th>InCongruent</th>\n",
       "    </tr>\n",
       "  </thead>\n",
       "  <tbody>\n",
       "    <tr>\n",
       "      <th>Sample Size</th>\n",
       "      <td>24.000000</td>\n",
       "      <td>24.000000</td>\n",
       "    </tr>\n",
       "    <tr>\n",
       "      <th>Mean</th>\n",
       "      <td>14.051125</td>\n",
       "      <td>22.015917</td>\n",
       "    </tr>\n",
       "    <tr>\n",
       "      <th>Median</th>\n",
       "      <td>14.356500</td>\n",
       "      <td>21.017500</td>\n",
       "    </tr>\n",
       "    <tr>\n",
       "      <th>Standard Deviation</th>\n",
       "      <td>3.559358</td>\n",
       "      <td>4.797057</td>\n",
       "    </tr>\n",
       "  </tbody>\n",
       "</table>\n",
       "</div>"
      ],
      "text/plain": [
       "                    Congruent  InCongruent\n",
       "Sample Size         24.000000    24.000000\n",
       "Mean                14.051125    22.015917\n",
       "Median              14.356500    21.017500\n",
       "Standard Deviation   3.559358     4.797057"
      ]
     },
     "execution_count": 5,
     "metadata": {},
     "output_type": "execute_result"
    }
   ],
   "source": [
    "#Find the mean,Median and standard deviation for congruent and incongruent\n",
    "#Find the mean\n",
    "c_mean=stroop['Congruent'].mean()\n",
    "ic_mean=stroop['Incongruent'].mean()\n",
    "#Find the median\n",
    "c_median=stroop['Congruent'].median()\n",
    "ic_median=stroop['Incongruent'].median()\n",
    "#Find the Standard Deviation\n",
    "c_stddev=stroop['Congruent'].std()\n",
    "ic_stddev=stroop['Incongruent'].std()\n",
    "#print mean,median and standard deviation in a table\n",
    "tbl=[[int(24),int(24)],[c_mean,ic_mean],[c_median,ic_median],[c_stddev,ic_stddev]]\n",
    "tbl_df=pd.DataFrame(tbl,index=['Sample Size','Mean','Median','Standard Deviation'],columns=['Congruent','InCongruent'])\n",
    "tbl_df"
   ]
  },
  {
   "cell_type": "code",
   "execution_count": 6,
   "metadata": {},
   "outputs": [
    {
     "data": {
      "text/html": [
       "<div>\n",
       "<style scoped>\n",
       "    .dataframe tbody tr th:only-of-type {\n",
       "        vertical-align: middle;\n",
       "    }\n",
       "\n",
       "    .dataframe tbody tr th {\n",
       "        vertical-align: top;\n",
       "    }\n",
       "\n",
       "    .dataframe thead th {\n",
       "        text-align: right;\n",
       "    }\n",
       "</style>\n",
       "<table border=\"1\" class=\"dataframe\">\n",
       "  <thead>\n",
       "    <tr style=\"text-align: right;\">\n",
       "      <th></th>\n",
       "      <th>Congruent</th>\n",
       "      <th>InCongruent</th>\n",
       "    </tr>\n",
       "  </thead>\n",
       "  <tbody>\n",
       "    <tr>\n",
       "      <th>count</th>\n",
       "      <td>4.000000</td>\n",
       "      <td>4.000000</td>\n",
       "    </tr>\n",
       "    <tr>\n",
       "      <th>mean</th>\n",
       "      <td>13.991746</td>\n",
       "      <td>17.957618</td>\n",
       "    </tr>\n",
       "    <tr>\n",
       "      <th>std</th>\n",
       "      <td>8.349380</td>\n",
       "      <td>8.860839</td>\n",
       "    </tr>\n",
       "    <tr>\n",
       "      <th>min</th>\n",
       "      <td>3.559358</td>\n",
       "      <td>4.797057</td>\n",
       "    </tr>\n",
       "    <tr>\n",
       "      <th>25%</th>\n",
       "      <td>11.428183</td>\n",
       "      <td>16.962389</td>\n",
       "    </tr>\n",
       "    <tr>\n",
       "      <th>50%</th>\n",
       "      <td>14.203812</td>\n",
       "      <td>21.516708</td>\n",
       "    </tr>\n",
       "    <tr>\n",
       "      <th>75%</th>\n",
       "      <td>16.767375</td>\n",
       "      <td>22.511937</td>\n",
       "    </tr>\n",
       "    <tr>\n",
       "      <th>max</th>\n",
       "      <td>24.000000</td>\n",
       "      <td>24.000000</td>\n",
       "    </tr>\n",
       "  </tbody>\n",
       "</table>\n",
       "</div>"
      ],
      "text/plain": [
       "       Congruent  InCongruent\n",
       "count   4.000000     4.000000\n",
       "mean   13.991746    17.957618\n",
       "std     8.349380     8.860839\n",
       "min     3.559358     4.797057\n",
       "25%    11.428183    16.962389\n",
       "50%    14.203812    21.516708\n",
       "75%    16.767375    22.511937\n",
       "max    24.000000    24.000000"
      ]
     },
     "execution_count": 6,
     "metadata": {},
     "output_type": "execute_result"
    }
   ],
   "source": [
    "tbl_df.describe()"
   ]
  },
  {
   "cell_type": "markdown",
   "metadata": {},
   "source": [
    "(4) Provide one or two visualizations that show the distribution of the sample data. Write one or two sentences noting what you observe about the plot or plots."
   ]
  },
  {
   "cell_type": "code",
   "execution_count": 7,
   "metadata": {},
   "outputs": [
    {
     "data": {
      "image/png": "[encoded data removed]",
      "text/plain": [
       "<matplotlib.figure.Figure at 0x7f9cb2f284a8>"
      ]
     },
     "metadata": {
      "needs_background": "light"
     },
     "output_type": "display_data"
    }
   ],
   "source": [
    "# Build the visualizations here\n",
    "sns.boxplot(data=stroop[['Congruent','Incongruent']],orient='h',palette='colorblind');\n",
    "plt.xlabel('Response Time');"
   ]
  },
  {
   "cell_type": "markdown",
   "metadata": {},
   "source": [
    "<div class=\"alert alert--block alert-success\">\n",
    "    <b> Observations:</b>\n",
    "    <li>The Box-Plot clearly shows difference between the median of two datasets.</li>\n",
    "    <li>We can see that the Average Response Time for Incongruent group is higher than the Congruent Group. </li>\n",
    "    <li> The Incongruent Group has two Outliers in it.</li>\n",
    "    <li> The distribution for both congruent and incongruent group looks normal.</li>\n",
    "    </div>"
   ]
  },
  {
   "cell_type": "code",
   "execution_count": 8,
   "metadata": {},
   "outputs": [
    {
     "data": {
      "image/png": "[encoded data removed]",
      "text/plain": [
       "<matplotlib.figure.Figure at 0x7f9cb2f21b70>"
      ]
     },
     "metadata": {
      "needs_background": "light"
     },
     "output_type": "display_data"
    }
   ],
   "source": [
    "#plot the graph for Congruent DataSet\n",
    "sns.distplot(stroop['Congruent'])\n",
    "plt.xlabel(\"Response Time\",fontsize=\"12\")\n",
    "plt.ylabel(\"Frequency\", fontsize=\"12\")\n",
    "plt.title(\"Response Time For Congruent Words\",fontsize=\"14\")\n",
    "plt.show()"
   ]
  },
  {
   "cell_type": "code",
   "execution_count": 9,
   "metadata": {},
   "outputs": [
    {
     "data": {
      "image/png": "[encoded data removed]",
      "text/plain": [
       "<matplotlib.figure.Figure at 0x7f9cb0e4cd68>"
      ]
     },
     "metadata": {
      "needs_background": "light"
     },
     "output_type": "display_data"
    }
   ],
   "source": [
    "#plot the graph for InCongruent DataSet\n",
    "sns.distplot(stroop['Incongruent'],color='orange')\n",
    "plt.xlabel(\"Response Time\",fontsize=\"12\")\n",
    "plt.ylabel(\"Frequency\", fontsize=\"12\")\n",
    "plt.title(\"Response Time For InCongruent Words\",fontsize=\"14\")\n",
    "plt.show()"
   ]
  },
  {
   "cell_type": "code",
   "execution_count": 10,
   "metadata": {},
   "outputs": [
    {
     "data": {
      "image/png": "[encoded data removed]",
      "text/plain": [
       "<matplotlib.figure.Figure at 0x7f9cb0e329b0>"
      ]
     },
     "metadata": {
      "needs_background": "light"
     },
     "output_type": "display_data"
    }
   ],
   "source": [
    "#plot the compare graph for Congruent & InCongruent DataSet\n",
    "sns.distplot(stroop['Congruent'],label=\"Congruent\")\n",
    "sns.distplot(stroop['Incongruent'],label=\"InCongruent\")\n",
    "\n",
    "plt.xlabel(\"Response Time\",fontsize=\"12\")\n",
    "plt.ylabel(\"Frequency\", fontsize=\"12\")\n",
    "plt.title(\"Response Time For Congruent VS InCongruent Words\",fontsize=\"14\")\n",
    "plt.legend()\n",
    "plt.show()"
   ]
  },
  {
   "cell_type": "markdown",
   "metadata": {},
   "source": [
    "<div class=\"alert alert--block alert-success\">\n",
    "    <b> Observations:</b>\n",
    "   <li>Congruent Group follows a normal distribution.</li>\n",
    "   <li>Incongruent Group follows a bi-modal normal distribution with a small peak at x-value = 35.</li>\n",
    "   <li>Graph infer that Congrount group have a faster response time.</li>\n",
    "    <li>Mean is Different for both distribution.</li>\n",
    "    </div>"
   ]
  },
  {
   "cell_type": "markdown",
   "metadata": {},
   "source": [
    "(5)  Now, perform the statistical test and report your results. What is your confidence level or Type I error associated with your test? What is your conclusion regarding the hypotheses you set up? Did the results match up with your expectations? **Hint:**  Think about what is being measured on each individual, and what statistic best captures how an individual reacts in each environment."
   ]
  },
  {
   "cell_type": "code",
   "execution_count": 18,
   "metadata": {},
   "outputs": [
    {
     "name": "stdout",
     "output_type": "stream",
     "text": [
      "Sample Size(n):  24\n"
     ]
    }
   ],
   "source": [
    "#Sample size\n",
    "n=len(stroop)\n",
    "print('Sample Size(n): ',n)"
   ]
  },
  {
   "cell_type": "code",
   "execution_count": 19,
   "metadata": {},
   "outputs": [
    {
     "name": "stdout",
     "output_type": "stream",
     "text": [
      "Degree Of Freedom: 23\n"
     ]
    }
   ],
   "source": [
    "# Identify degrees of freedom (as df=n - 1)\n",
    "df=n-1\n",
    "print('Degree Of Freedom:',df)"
   ]
  },
  {
   "cell_type": "code",
   "execution_count": 24,
   "metadata": {},
   "outputs": [
    {
     "name": "stdout",
     "output_type": "stream",
     "text": [
      "T-critical Value for two tailed test is:  1.7139\n"
     ]
    }
   ],
   "source": [
    "#find the t-critical value for 95% confidence interval and 23 degree of freedom for two tailed test\n",
    "print('T-critical Value for two tailed test is: ',round(pt.ppf(0.95,df),4))"
   ]
  },
  {
   "cell_type": "code",
   "execution_count": 25,
   "metadata": {},
   "outputs": [
    {
     "data": {
      "text/html": [
       "<div>\n",
       "<style scoped>\n",
       "    .dataframe tbody tr th:only-of-type {\n",
       "        vertical-align: middle;\n",
       "    }\n",
       "\n",
       "    .dataframe tbody tr th {\n",
       "        vertical-align: top;\n",
       "    }\n",
       "\n",
       "    .dataframe thead th {\n",
       "        text-align: right;\n",
       "    }\n",
       "</style>\n",
       "<table border=\"1\" class=\"dataframe\">\n",
       "  <thead>\n",
       "    <tr style=\"text-align: right;\">\n",
       "      <th></th>\n",
       "      <th>Congruent</th>\n",
       "      <th>Incongruent</th>\n",
       "      <th>Difference</th>\n",
       "    </tr>\n",
       "  </thead>\n",
       "  <tbody>\n",
       "    <tr>\n",
       "      <th>0</th>\n",
       "      <td>12.079</td>\n",
       "      <td>19.278</td>\n",
       "      <td>-7.199</td>\n",
       "    </tr>\n",
       "    <tr>\n",
       "      <th>1</th>\n",
       "      <td>16.791</td>\n",
       "      <td>18.741</td>\n",
       "      <td>-1.950</td>\n",
       "    </tr>\n",
       "    <tr>\n",
       "      <th>2</th>\n",
       "      <td>9.564</td>\n",
       "      <td>21.214</td>\n",
       "      <td>-11.650</td>\n",
       "    </tr>\n",
       "    <tr>\n",
       "      <th>3</th>\n",
       "      <td>8.630</td>\n",
       "      <td>15.687</td>\n",
       "      <td>-7.057</td>\n",
       "    </tr>\n",
       "    <tr>\n",
       "      <th>4</th>\n",
       "      <td>14.669</td>\n",
       "      <td>22.803</td>\n",
       "      <td>-8.134</td>\n",
       "    </tr>\n",
       "    <tr>\n",
       "      <th>5</th>\n",
       "      <td>12.238</td>\n",
       "      <td>20.878</td>\n",
       "      <td>-8.640</td>\n",
       "    </tr>\n",
       "    <tr>\n",
       "      <th>6</th>\n",
       "      <td>14.692</td>\n",
       "      <td>24.572</td>\n",
       "      <td>-9.880</td>\n",
       "    </tr>\n",
       "    <tr>\n",
       "      <th>7</th>\n",
       "      <td>8.987</td>\n",
       "      <td>17.394</td>\n",
       "      <td>-8.407</td>\n",
       "    </tr>\n",
       "    <tr>\n",
       "      <th>8</th>\n",
       "      <td>9.401</td>\n",
       "      <td>20.762</td>\n",
       "      <td>-11.361</td>\n",
       "    </tr>\n",
       "    <tr>\n",
       "      <th>9</th>\n",
       "      <td>14.480</td>\n",
       "      <td>26.282</td>\n",
       "      <td>-11.802</td>\n",
       "    </tr>\n",
       "    <tr>\n",
       "      <th>10</th>\n",
       "      <td>22.328</td>\n",
       "      <td>24.524</td>\n",
       "      <td>-2.196</td>\n",
       "    </tr>\n",
       "    <tr>\n",
       "      <th>11</th>\n",
       "      <td>15.298</td>\n",
       "      <td>18.644</td>\n",
       "      <td>-3.346</td>\n",
       "    </tr>\n",
       "    <tr>\n",
       "      <th>12</th>\n",
       "      <td>15.073</td>\n",
       "      <td>17.510</td>\n",
       "      <td>-2.437</td>\n",
       "    </tr>\n",
       "    <tr>\n",
       "      <th>13</th>\n",
       "      <td>16.929</td>\n",
       "      <td>20.330</td>\n",
       "      <td>-3.401</td>\n",
       "    </tr>\n",
       "    <tr>\n",
       "      <th>14</th>\n",
       "      <td>18.200</td>\n",
       "      <td>35.255</td>\n",
       "      <td>-17.055</td>\n",
       "    </tr>\n",
       "    <tr>\n",
       "      <th>15</th>\n",
       "      <td>12.130</td>\n",
       "      <td>22.158</td>\n",
       "      <td>-10.028</td>\n",
       "    </tr>\n",
       "    <tr>\n",
       "      <th>16</th>\n",
       "      <td>18.495</td>\n",
       "      <td>25.139</td>\n",
       "      <td>-6.644</td>\n",
       "    </tr>\n",
       "    <tr>\n",
       "      <th>17</th>\n",
       "      <td>10.639</td>\n",
       "      <td>20.429</td>\n",
       "      <td>-9.790</td>\n",
       "    </tr>\n",
       "    <tr>\n",
       "      <th>18</th>\n",
       "      <td>11.344</td>\n",
       "      <td>17.425</td>\n",
       "      <td>-6.081</td>\n",
       "    </tr>\n",
       "    <tr>\n",
       "      <th>19</th>\n",
       "      <td>12.369</td>\n",
       "      <td>34.288</td>\n",
       "      <td>-21.919</td>\n",
       "    </tr>\n",
       "    <tr>\n",
       "      <th>20</th>\n",
       "      <td>12.944</td>\n",
       "      <td>23.894</td>\n",
       "      <td>-10.950</td>\n",
       "    </tr>\n",
       "    <tr>\n",
       "      <th>21</th>\n",
       "      <td>14.233</td>\n",
       "      <td>17.960</td>\n",
       "      <td>-3.727</td>\n",
       "    </tr>\n",
       "    <tr>\n",
       "      <th>22</th>\n",
       "      <td>19.710</td>\n",
       "      <td>22.058</td>\n",
       "      <td>-2.348</td>\n",
       "    </tr>\n",
       "    <tr>\n",
       "      <th>23</th>\n",
       "      <td>16.004</td>\n",
       "      <td>21.157</td>\n",
       "      <td>-5.153</td>\n",
       "    </tr>\n",
       "  </tbody>\n",
       "</table>\n",
       "</div>"
      ],
      "text/plain": [
       "    Congruent  Incongruent  Difference\n",
       "0      12.079       19.278      -7.199\n",
       "1      16.791       18.741      -1.950\n",
       "2       9.564       21.214     -11.650\n",
       "3       8.630       15.687      -7.057\n",
       "4      14.669       22.803      -8.134\n",
       "5      12.238       20.878      -8.640\n",
       "6      14.692       24.572      -9.880\n",
       "7       8.987       17.394      -8.407\n",
       "8       9.401       20.762     -11.361\n",
       "9      14.480       26.282     -11.802\n",
       "10     22.328       24.524      -2.196\n",
       "11     15.298       18.644      -3.346\n",
       "12     15.073       17.510      -2.437\n",
       "13     16.929       20.330      -3.401\n",
       "14     18.200       35.255     -17.055\n",
       "15     12.130       22.158     -10.028\n",
       "16     18.495       25.139      -6.644\n",
       "17     10.639       20.429      -9.790\n",
       "18     11.344       17.425      -6.081\n",
       "19     12.369       34.288     -21.919\n",
       "20     12.944       23.894     -10.950\n",
       "21     14.233       17.960      -3.727\n",
       "22     19.710       22.058      -2.348\n",
       "23     16.004       21.157      -5.153"
      ]
     },
     "execution_count": 25,
     "metadata": {},
     "output_type": "execute_result"
    }
   ],
   "source": [
    "#find the difference of each stroop\n",
    "stroop['Difference']=stroop['Congruent']-stroop['Incongruent']\n",
    "stroop\n"
   ]
  },
  {
   "cell_type": "code",
   "execution_count": 27,
   "metadata": {},
   "outputs": [
    {
     "name": "stdout",
     "output_type": "stream",
     "text": [
      "Standard Deviation of Differenced Dataset: 4.8648\n",
      "Mean of Differenced Dataset : -7.9648\n"
     ]
    }
   ],
   "source": [
    "#find the st and mean of differenced dataset\n",
    "s_std=stroop['Difference'].std()\n",
    "print(\"Standard Deviation of Differenced Dataset:\",round(s_std,4))\n",
    "s_mean=stroop['Difference'].mean()\n",
    "print('Mean of Differenced Dataset :',round(s_mean,4))"
   ]
  },
  {
   "cell_type": "markdown",
   "metadata": {},
   "source": [
    "<div class=\"alert alert--block alert-success\">\n",
    "    <b>Findings for Two-Tailed T-Test At 95 % Confidence Interval :</b>\n",
    "    <li>Sample Size(n):  24</li>\n",
    "    <li>Degree Of Freedom(df) = 23</li>\n",
    "    <li>T-critical Value for two tailed test = ∓1.7139</li>\n",
    "    <li>Standerd Deviation(SD) of Differenced Dataset: = 4.8648</li>\n",
    "<li>Mean of difference data (x̄) = -7.9648</li>\n",
    "    </div>"
   ]
  },
  {
   "cell_type": "code",
   "execution_count": 44,
   "metadata": {},
   "outputs": [
    {
     "name": "stdout",
     "output_type": "stream",
     "text": [
      "T-Statistics :  -8.02070694411\n"
     ]
    }
   ],
   "source": [
    "#Calculate T-value\n",
    "t_value = s_mean/(s_std/math.sqrt(n))\n",
    "print(\"T-Statistics : \",t_value)"
   ]
  },
  {
   "cell_type": "markdown",
   "metadata": {},
   "source": [
    "<div class=\"alert alert--block alert-success\">\n",
    "    The calculated t-statistic is <b>-8.0207 </b>for the difference in colour recognition time means of the congruent and incongruent words data. And -8.0207 is much lower than the t-critical value. Since the t-statistic is in the critical region, so the null hypothesis is rejected. \n",
    "\n",
    "Null hypothesis rejected at α = 0.05, the time to name colours is significantly different between congruent and incongruent tasks. People do not name colours at the same speed when the word’s meaning and its colour match, as when they do not match. The result confirms my expectations.\n",
    "</div>"
   ]
  },
  {
   "cell_type": "markdown",
   "metadata": {},
   "source": [
    "(6) Optional: What do you think is responsible for the effects observed? Can you think of an alternative or similar task that would result in a similar effect? Some research about the problem will be helpful for thinking about these two questions!"
   ]
  },
  {
   "cell_type": "markdown",
   "metadata": {},
   "source": [
    "<div class=\"alert alert--block alert-success\">\n",
    "The brain has an image association between the shape of the word and the colour. When there is a mismatch, additional time is necessary for the prefrontal cortex to process the information and decide on its meaning.The words themselves have a strong influence over your ability to say the color. The interference between the different information (what the words say and the color of the words) your brain receives causes a problem. There are two theories that may explain the Stroop effect:\n",
    "\n",
    "<li><b>Speed of Processing Theory:</b> the interference occurs because words are read faster than colors are named.</li>\n",
    "<li><b>Selective Attention Theory:</b> the interference occurs because naming colors requires more attention than reading words.</li>\n",
    "    \n",
    "Similar effect to the this effect can be reserve stroop effect.In this test the participant’s task is to say out loud the word that is printed not its color.\n",
    "    </div>"
   ]
  },
  {
   "cell_type": "markdown",
   "metadata": {},
   "source": [
    "### References\n",
    "\n",
    "[T-Score Vs Z-Score](http://www.statisticshowto.com/when-to-use-a-t-score-vs-z-score/)\n",
    "\n",
    "[Stroop Wiki](https://en.wikipedia.org/wiki/Stroop_effect)\n",
    "\n",
    "[TestChoice](http://www.biostathandbook.com/testchoice.html)\n",
    "\n",
    "[T-Table](https://www.stat.tamu.edu/~lzhou/stat302/T-Table.pdf)"
   ]
  }
 ],
 "metadata": {
  "kernelspec": {
   "display_name": "Python 3",
   "language": "python",
   "name": "python3"
  },
  "language_info": {
   "codemirror_mode": {
    "name": "ipython",
    "version": 3
   },
   "file_extension": ".py",
   "mimetype": "text/x-python",
   "name": "python",
   "nbconvert_exporter": "python",
   "pygments_lexer": "ipython3",
   "version": "3.6.3"
  }
 },
 "nbformat": 4,
 "nbformat_minor": 2
}
